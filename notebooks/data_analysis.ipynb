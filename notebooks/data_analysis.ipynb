{
 "cells": [
  {
   "cell_type": "markdown",
   "id": "2fd73cae",
   "metadata": {},
   "source": [
    "# Data Analysis of Product Reviews\n",
    "\n",
    "This notebook focuses on exploratory data analysis (EDA) for the classification of product reviews using Generative AI."
   ]
  },
  {
   "cell_type": "code",
   "execution_count": null,
   "id": "faaf0f92",
   "metadata": {},
   "outputs": [],
   "source": [
    "\n",
    "import pandas as pd\n",
    "import matplotlib.pyplot as plt\n",
    "import seaborn as sns\n",
    "import numpy as np\n"
   ]
  },
  {
   "cell_type": "markdown",
   "id": "abb7aba6",
   "metadata": {},
   "source": [
    "## Load the data\n",
    "\n",
    "Let's load the raw review data and inspect the first few entries."
   ]
  },
  {
   "cell_type": "code",
   "execution_count": null,
   "id": "f53ac759",
   "metadata": {},
   "outputs": [],
   "source": [
    "\n",
    "# Load the data\n",
    "data = pd.read_csv('data/raw/reviews.csv')\n",
    "\n",
    "# Show the first few rows of the data\n",
    "data.head()\n"
   ]
  },
  {
   "cell_type": "markdown",
   "id": "661ddc50",
   "metadata": {},
   "source": [
    "## Exploratory Data Analysis\n",
    "\n",
    "In this section, we will explore the dataset to understand its structure, missing values, and review sentiment distribution."
   ]
  },
  {
   "cell_type": "code",
   "execution_count": null,
   "id": "3c247965",
   "metadata": {},
   "outputs": [],
   "source": [
    "\n",
    "# Plot sentiment distribution\n",
    "plt.figure(figsize=(8, 6))\n",
    "sns.countplot(x='sentiment', data=data)\n",
    "plt.title('Sentiment Distribution')\n",
    "plt.xlabel('Sentiment')\n",
    "plt.ylabel('Count')\n",
    "plt.show()\n"
   ]
  }
 ],
 "metadata": {},
 "nbformat": 4,
 "nbformat_minor": 5
}
